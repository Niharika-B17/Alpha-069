{
 "cells": [
  {
   "cell_type": "code",
   "execution_count": 1,
   "id": "52f83c0a",
   "metadata": {},
   "outputs": [],
   "source": [
    "#import numpy library\n",
    "import numpy as np"
   ]
  },
  {
   "cell_type": "code",
   "execution_count": 2,
   "id": "bc7c49e6",
   "metadata": {},
   "outputs": [],
   "source": [
    "#dir (np)"
   ]
  },
  {
   "cell_type": "code",
   "execution_count": 3,
   "id": "464cb0c6",
   "metadata": {},
   "outputs": [
    {
     "name": "stdout",
     "output_type": "stream",
     "text": [
      "[40 50 60 70 80]\n",
      "<class 'numpy.ndarray'>\n",
      "int32\n"
     ]
    }
   ],
   "source": [
    "x = np.array([40,50,60,70,80])\n",
    "print(x)\n",
    "print(type(x))\n",
    "print(x.dtype)"
   ]
  },
  {
   "cell_type": "code",
   "execution_count": 4,
   "id": "ebf29b63",
   "metadata": {},
   "outputs": [
    {
     "name": "stdout",
     "output_type": "stream",
     "text": [
      "[40.  50.  60.   7.8 80. ]\n",
      "<class 'numpy.ndarray'>\n",
      "float64\n"
     ]
    }
   ],
   "source": [
    "x = np.array([40,50,60,7.8,80])\n",
    "print(x)\n",
    "print(type(x))\n",
    "print(x.dtype)"
   ]
  },
  {
   "cell_type": "code",
   "execution_count": 6,
   "id": "c04ebf12",
   "metadata": {},
   "outputs": [
    {
     "name": "stdout",
     "output_type": "stream",
     "text": [
      "['A' '50' '60' '7.6' '80']\n",
      "<class 'numpy.ndarray'>\n",
      "<U32\n"
     ]
    }
   ],
   "source": [
    "x = np.array(['A',50,60,7.6,80])\n",
    "print(x)\n",
    "print(type(x))\n",
    "print(x.dtype)"
   ]
  },
  {
   "cell_type": "code",
   "execution_count": 8,
   "id": "242f0ff7",
   "metadata": {},
   "outputs": [
    {
     "name": "stdout",
     "output_type": "stream",
     "text": [
      "[[20 30 40]\n",
      " [50 60 70]]\n",
      "<class 'numpy.ndarray'>\n",
      "(2, 3)\n",
      "int32\n"
     ]
    }
   ],
   "source": [
    "a2 = np.array([[20,30,40],[50,60,70]])\n",
    "print(a2)\n",
    "print(type(a2))\n",
    "print(a2.shape)\n",
    "print(a2.dtype)"
   ]
  },
  {
   "cell_type": "code",
   "execution_count": 22,
   "id": "10bf7593",
   "metadata": {},
   "outputs": [
    {
     "name": "stdout",
     "output_type": "stream",
     "text": [
      "[[10 20 30]\n",
      " [40 60 70]]\n",
      "(2, 3)\n"
     ]
    }
   ],
   "source": [
    "a = np.array([10,20,30,40,60,70])\n",
    "b = a.reshape(2,3)\n",
    "print(b) \n",
    "print(b.shape)"
   ]
  },
  {
   "cell_type": "code",
   "execution_count": 17,
   "id": "daf40ba9",
   "metadata": {},
   "outputs": [
    {
     "name": "stdout",
     "output_type": "stream",
     "text": [
      "[3 4 5 6 7 8 9]\n"
     ]
    },
    {
     "data": {
      "text/plain": [
       "numpy.ndarray"
      ]
     },
     "execution_count": 17,
     "metadata": {},
     "output_type": "execute_result"
    }
   ],
   "source": [
    "#create an array with arange()\n",
    "c = np.arange(3,10)\n",
    "print(c)\n",
    "type(c)"
   ]
  },
  {
   "cell_type": "code",
   "execution_count": 23,
   "id": "f7e657bf",
   "metadata": {},
   "outputs": [
    {
     "name": "stdout",
     "output_type": "stream",
     "text": [
      "[1.2367 2.23   3.23  ]\n"
     ]
    },
    {
     "data": {
      "text/plain": [
       "array([1.24, 2.23, 3.23])"
      ]
     },
     "execution_count": 23,
     "metadata": {},
     "output_type": "execute_result"
    }
   ],
   "source": [
    "# use of around()\n",
    "d = np.array([1.2367,2.23,3.23])           #taking approximate number\n",
    "print(d)\n",
    "np.around(d,2)"
   ]
  },
  {
   "cell_type": "code",
   "execution_count": 24,
   "id": "4d9f314f",
   "metadata": {},
   "outputs": [
    {
     "name": "stdout",
     "output_type": "stream",
     "text": [
      "[1.234 2.234 3.234]\n",
      "[1.11 1.49 1.8 ]\n"
     ]
    }
   ],
   "source": [
    "#Use of n.sqrt()\n",
    "d = np.array([1.234, 2.234, 3.234])\n",
    "print(d)\n",
    "print(np.around(np.sqrt(d),2))"
   ]
  },
  {
   "cell_type": "markdown",
   "id": "e70e9fc0",
   "metadata": {},
   "source": [
    "# 2D array"
   ]
  },
  {
   "cell_type": "code",
   "execution_count": 27,
   "id": "c868bb32",
   "metadata": {
    "scrolled": true
   },
   "outputs": [
    {
     "name": "stdout",
     "output_type": "stream",
     "text": [
      "[[ 3.  4.  5.  6.]\n",
      " [ 7.  8.  9. nan]]\n",
      "(2, 4)\n",
      "float64\n"
     ]
    }
   ],
   "source": [
    "a1 = np.array([[3,4,5,6],[7,8,9,np.NAN]])\n",
    "print(a1)\n",
    "print(a1.shape)\n",
    "print(a1.dtype)"
   ]
  },
  {
   "cell_type": "code",
   "execution_count": 30,
   "id": "da21a8fa",
   "metadata": {},
   "outputs": [
    {
     "name": "stdout",
     "output_type": "stream",
     "text": [
      "[['3.0' '4.0' '5.0' '6.0']\n",
      " ['7.0' '8.0' '9.0' 'nan']]\n"
     ]
    },
    {
     "data": {
      "text/plain": [
       "dtype('<U32')"
      ]
     },
     "execution_count": 30,
     "metadata": {},
     "output_type": "execute_result"
    }
   ],
   "source": [
    "#Use of astype() to convert the datatype\n",
    "a1_copy = a1.astype(str)\n",
    "print(a1_copy)\n",
    "a1_copy.dtype"
   ]
  },
  {
   "cell_type": "code",
   "execution_count": 31,
   "id": "10c4404e",
   "metadata": {},
   "outputs": [
    {
     "data": {
      "text/plain": [
       "array([[ 2,  3,  4],\n",
       "       [ 5,  6,  7],\n",
       "       [ 8,  9, 10]])"
      ]
     },
     "execution_count": 31,
     "metadata": {},
     "output_type": "execute_result"
    }
   ],
   "source": [
    "a2 = np.array([[2,3,4],[5,6,7],[8,9,10]])\n",
    "a2"
   ]
  },
  {
   "cell_type": "code",
   "execution_count": 33,
   "id": "e101ff64",
   "metadata": {},
   "outputs": [
    {
     "name": "stdout",
     "output_type": "stream",
     "text": [
      "[ 9 18 27]\n",
      "[15 18 21]\n"
     ]
    }
   ],
   "source": [
    "a2 = np.array([[2,3,4],[5,6,7],[8,9,10]])\n",
    "a2\n",
    "print(a2.sum(axis=1))\n",
    "print(a2.sum(axis=0))"
   ]
  },
  {
   "cell_type": "code",
   "execution_count": 36,
   "id": "6edafdad",
   "metadata": {},
   "outputs": [
    {
     "name": "stdout",
     "output_type": "stream",
     "text": [
      "[[ 2  3  4]\n",
      " [ 5  6  7]\n",
      " [ 8  9 10]]\n",
      "[5. 6. 7.]\n",
      "[3. 6. 9.]\n"
     ]
    }
   ],
   "source": [
    "print(a2)\n",
    "print(a2.mean(axis=0))\n",
    "print(a2.mean(axis=1))"
   ]
  },
  {
   "cell_type": "markdown",
   "id": "15dd3808",
   "metadata": {},
   "source": [
    "# Matrix operations"
   ]
  },
  {
   "cell_type": "code",
   "execution_count": 39,
   "id": "f842724e",
   "metadata": {},
   "outputs": [
    {
     "name": "stdout",
     "output_type": "stream",
     "text": [
      "[[3 4 5]\n",
      " [3 6 8]\n",
      " [9 2 8]]\n",
      "[[0 4 5]\n",
      " [3 0 8]\n",
      " [9 2 0]]\n"
     ]
    }
   ],
   "source": [
    "a3 = np.array([[3,4,5],[3,6,8],[9,2,8]])\n",
    "print(a3)\n",
    "np.fill_diagonal(a3,0)\n",
    "print(a3)"
   ]
  },
  {
   "cell_type": "code",
   "execution_count": 41,
   "id": "57d1df5c",
   "metadata": {},
   "outputs": [
    {
     "name": "stdout",
     "output_type": "stream",
     "text": [
      "[[1 2]\n",
      " [3 4]]\n",
      "[[5 6]\n",
      " [7 8]]\n",
      "[[1 3]\n",
      " [2 4]]\n",
      "[[5 7]\n",
      " [6 8]]\n"
     ]
    }
   ],
   "source": [
    "#Define two matrices and multiply them\n",
    "A = np.array([[1,2],[3,4]])\n",
    "B = np.array([[5,6],[7,8]])\n",
    "\n",
    "C = np.matmul(A, B)\n",
    "print(A)\n",
    "print(B)\n",
    "print(A.T)\n",
    "print(B.T)"
   ]
  },
  {
   "cell_type": "code",
   "execution_count": 42,
   "id": "d9978a3b",
   "metadata": {},
   "outputs": [
    {
     "data": {
      "text/plain": [
       "array([[3, 4, 5],\n",
       "       [7, 2, 3],\n",
       "       [9, 1, 3],\n",
       "       [4, 7, 0]])"
      ]
     },
     "execution_count": 42,
     "metadata": {},
     "output_type": "execute_result"
    }
   ],
   "source": [
    "#access the array elements\n",
    "a4 = np.array([[3,4,5],[7,2,3],[9,1,3],[4,7,0]])\n",
    "a4"
   ]
  },
  {
   "cell_type": "code",
   "execution_count": 43,
   "id": "3b1197a7",
   "metadata": {},
   "outputs": [
    {
     "data": {
      "text/plain": [
       "2"
      ]
     },
     "execution_count": 43,
     "metadata": {},
     "output_type": "execute_result"
    }
   ],
   "source": [
    "a4[1][1]"
   ]
  },
  {
   "cell_type": "code",
   "execution_count": 45,
   "id": "49d0c215",
   "metadata": {},
   "outputs": [
    {
     "data": {
      "text/plain": [
       "0"
      ]
     },
     "execution_count": 45,
     "metadata": {},
     "output_type": "execute_result"
    }
   ],
   "source": [
    "a4[3][2]"
   ]
  },
  {
   "cell_type": "code",
   "execution_count": 47,
   "id": "97557251",
   "metadata": {},
   "outputs": [
    {
     "data": {
      "text/plain": [
       "array([[7, 2],\n",
       "       [9, 1]])"
      ]
     },
     "execution_count": 47,
     "metadata": {},
     "output_type": "execute_result"
    }
   ],
   "source": [
    "#Slicing\n",
    "a4[1:3,0:2]   # row,col"
   ]
  },
  {
   "cell_type": "code",
   "execution_count": null,
   "id": "244f906d",
   "metadata": {},
   "outputs": [],
   "source": []
  }
 ],
 "metadata": {
  "kernelspec": {
   "display_name": "Python 3 (ipykernel)",
   "language": "python",
   "name": "python3"
  },
  "language_info": {
   "codemirror_mode": {
    "name": "ipython",
    "version": 3
   },
   "file_extension": ".py",
   "mimetype": "text/x-python",
   "name": "python",
   "nbconvert_exporter": "python",
   "pygments_lexer": "ipython3",
   "version": "3.11.5"
  }
 },
 "nbformat": 4,
 "nbformat_minor": 5
}
