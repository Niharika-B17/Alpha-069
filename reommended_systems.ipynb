{
  "nbformat": 4,
  "nbformat_minor": 0,
  "metadata": {
    "colab": {
      "provenance": []
    },
    "kernelspec": {
      "name": "python3",
      "display_name": "Python 3"
    },
    "language_info": {
      "name": "python"
    }
  },
  "cells": [
    {
      "cell_type": "code",
      "execution_count": 2,
      "metadata": {
        "id": "7_PbiVbb3U8Q"
      },
      "outputs": [],
      "source": [
        "import numpy as np\n",
        "from scipy.spatial.distance import cosine, euclidean\n",
        "from scipy.stats import pearsonr\n"
      ]
    },
    {
      "cell_type": "code",
      "source": [
        "user1 = np.array([4, 5, 2, 3, 4])\n",
        "user2 = np.array([5, 3, 2, 4, 5])"
      ],
      "metadata": {
        "id": "Acv4qUjs7ro6"
      },
      "execution_count": 3,
      "outputs": []
    },
    {
      "cell_type": "code",
      "source": [
        "cosine_similarity = 1 - cosine(user1, user2)\n",
        "print(f\"Cosine Similarity: {cosine_similarity:.4f}\")"
      ],
      "metadata": {
        "colab": {
          "base_uri": "https://localhost:8080/"
        },
        "id": "ovIoISfw8UIL",
        "outputId": "5c19ede6-1b67-4a8a-add1-7c0dbe92643c"
      },
      "execution_count": 4,
      "outputs": [
        {
          "output_type": "stream",
          "name": "stdout",
          "text": [
            "Cosine Similarity: 0.9548\n"
          ]
        }
      ]
    },
    {
      "cell_type": "code",
      "source": [
        "pearson_corr, _ = pearsonr(user1, user2)\n",
        "print(f\"Pearson Correlation: {pearson_corr:.4f}\")"
      ],
      "metadata": {
        "colab": {
          "base_uri": "https://localhost:8080/"
        },
        "id": "259JKMyZ80JN",
        "outputId": "9a2f0e22-5be6-442c-9db3-8b599d170b8e"
      },
      "execution_count": 5,
      "outputs": [
        {
          "output_type": "stream",
          "name": "stdout",
          "text": [
            "Pearson Correlation: 0.4372\n"
          ]
        }
      ]
    },
    {
      "cell_type": "code",
      "source": [
        "euclidean_distance = euclidean(user1, user2)\n",
        "euclidean_similarity = 1 / (1 + euclidean_distance)\n",
        "print(f\"Euclidean Similarity: {euclidean_similarity:.4f}\")"
      ],
      "metadata": {
        "colab": {
          "base_uri": "https://localhost:8080/"
        },
        "id": "fanRTMtc9JoA",
        "outputId": "0027a39c-b3b8-412a-b020-16e376e3c7fa"
      },
      "execution_count": 6,
      "outputs": [
        {
          "output_type": "stream",
          "name": "stdout",
          "text": [
            "Euclidean Similarity: 0.2743\n"
          ]
        }
      ]
    },
    {
      "cell_type": "code",
      "source": [],
      "metadata": {
        "id": "3CEB9AsP9n66"
      },
      "execution_count": null,
      "outputs": []
    },
    {
      "cell_type": "code",
      "source": [
        "import numpy as np\n",
        "import pandas as pd\n",
        "from scipy.spatial.distance import cosine, euclidean\n",
        "from scipy.stats import pearsonr\n"
      ],
      "metadata": {
        "id": "E3F0B_TBAw7T"
      },
      "execution_count": 7,
      "outputs": []
    },
    {
      "cell_type": "code",
      "source": [
        "#User-item rating matrix for 4 users\n",
        "ratings = np.array([\n",
        "    [5, 3, 4, 4, 2],  # User A\n",
        "    [3, 1, 2, 3, 3],  # User B\n",
        "    [4, 3, 4, 5, 1],  # User C\n",
        "    [2, 2, 1, 2, 4]   # User D\n",
        "])\n",
        "\n",
        "users = [\"Raju\", \"John\", \"Ramya\", \"Kishore\"]\n",
        "df = pd.DataFrame(ratings, index=users, columns=[\"Bahubali\",\"Mufasa\",\"Interstellar\",\"RRR\",\"Mrs\"])\n",
        "print(df)\n",
        "\n",
        "# Function to compute similarity\n",
        "def compute_similarity(df):\n",
        "    num_users = df.shape[0]\n",
        "    similarity_results = []\n",
        "\n",
        "    for i in range(num_users):\n",
        "        for j in range(i + 1, num_users):  # Avoid redundant pairs\n",
        "            user1, user2 = df.iloc[i], df.iloc[j]\n",
        "\n",
        "            # Cosine Similarity\n",
        "            cos_sim = 1 - cosine(user1, user2)\n",
        "\n",
        "            # Pearson Correlation Similarity\n",
        "            pearson_sim, _ = pearsonr(user1, user2)\n",
        "\n",
        "            # Euclidean Distance Similarity\n",
        "            euc_dist = euclidean(user1, user2)\n",
        "            euc_sim = 1 / (1 + euc_dist)  # Normalize to [0,1]\n",
        "\n",
        "            similarity_results.append([users[i], users[j], cos_sim, pearson_sim, euc_sim])\n",
        "\n",
        "    return pd.DataFrame(similarity_results, columns=[\"User 1\", \"User 2\", \"Cosine Similarity\", \"Pearson Correlation\", \"Euclidean Similarity\"])\n",
        "\n",
        "# Compute similarity matrix\n",
        "similarity_df = compute_similarity(df)\n",
        "\n",
        "# Display results\n",
        "print(similarity_df)\n",
        "\n",
        "\n"
      ],
      "metadata": {
        "colab": {
          "base_uri": "https://localhost:8080/"
        },
        "id": "853vPVEVA53t",
        "outputId": "14cbb5ad-478d-4ba2-b74d-80f98e73793c"
      },
      "execution_count": 8,
      "outputs": [
        {
          "output_type": "stream",
          "name": "stdout",
          "text": [
            "         Bahubali  Mufasa  Interstellar  RRR  Mrs\n",
            "Raju            5       3             4    4    2\n",
            "John            3       1             2    3    3\n",
            "Ramya           4       3             4    5    1\n",
            "Kishore         2       2             1    2    4\n",
            "  User 1   User 2  Cosine Similarity  Pearson Correlation  \\\n",
            "0   Raju     John           0.929670             0.196116   \n",
            "1   Raju    Ramya           0.978337             0.838557   \n",
            "2   Raju  Kishore           0.799014            -0.720577   \n",
            "3   John    Ramya           0.885465             0.036860   \n",
            "4   John  Kishore           0.919145             0.408248   \n",
            "5  Ramya  Kishore           0.725961            -0.812605   \n",
            "\n",
            "   Euclidean Similarity  \n",
            "0              0.210897  \n",
            "1              0.366025  \n",
            "2              0.161390  \n",
            "3              0.195194  \n",
            "4              0.309017  \n",
            "5              0.150221  \n"
          ]
        }
      ]
    },
    {
      "cell_type": "code",
      "source": [],
      "metadata": {
        "id": "72RpDy4cCXKu"
      },
      "execution_count": null,
      "outputs": []
    }
  ]
}